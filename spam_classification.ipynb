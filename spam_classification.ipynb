{
 "cells": [
  {
   "metadata": {},
   "cell_type": "markdown",
   "source": "## Importing Required Libraries",
   "id": "3b524c9969015d58"
  },
  {
   "cell_type": "code",
   "id": "initial_id",
   "metadata": {
    "collapsed": true,
    "ExecuteTime": {
     "end_time": "2024-08-02T21:39:03.766003Z",
     "start_time": "2024-08-02T21:39:03.763266Z"
    }
   },
   "source": [
    "import nltk\n",
    "import pandas as pd\n",
    "import numpy as np\n",
    "import tensorflow as tf\n",
    "from nltk import word_tokenize\n",
    "from sklearn.preprocessing import LabelEncoder\n",
    "from sklearn.model_selection import train_test_split\n",
    "from sklearn.feature_extraction.text import TfidfVectorizer\n",
    "from tensorflow.keras.models import Sequential\n",
    "from tensorflow.keras.layers import Dense, Dropout, Input\n",
    "from tensorflow.keras.regularizers import l2\n",
    "import matplotlib.pyplot as plt\n",
    "import seaborn as sns\n",
    "from sklearn.metrics import confusion_matrix"
   ],
   "outputs": [],
   "execution_count": 2
  },
  {
   "metadata": {
    "ExecuteTime": {
     "end_time": "2024-08-02T21:39:03.799808Z",
     "start_time": "2024-08-02T21:39:03.791983Z"
    }
   },
   "cell_type": "code",
   "source": "spam_data = pd.read_csv('spam.csv', encoding='latin-1', usecols=[0, 1], names=['label', 'message'], skiprows=1)",
   "id": "da3fd5006c42cda1",
   "outputs": [],
   "execution_count": 3
  },
  {
   "metadata": {
    "ExecuteTime": {
     "end_time": "2024-08-02T21:39:03.804111Z",
     "start_time": "2024-08-02T21:39:03.801030Z"
    }
   },
   "cell_type": "code",
   "source": "print(spam_data.head())",
   "id": "32b5df9dc4f39518",
   "outputs": [
    {
     "name": "stdout",
     "output_type": "stream",
     "text": [
      "  label                                            message\n",
      "0   ham  Go until jurong point, crazy.. Available only ...\n",
      "1   ham                      Ok lar... Joking wif u oni...\n",
      "2  spam  Free entry in 2 a wkly comp to win FA Cup fina...\n",
      "3   ham  U dun say so early hor... U c already then say...\n",
      "4   ham  Nah I don't think he goes to usf, he lives aro...\n"
     ]
    }
   ],
   "execution_count": 4
  },
  {
   "metadata": {
    "ExecuteTime": {
     "end_time": "2024-08-02T21:39:03.807209Z",
     "start_time": "2024-08-02T21:39:03.804735Z"
    }
   },
   "cell_type": "code",
   "source": [
    "# converting label to 0 for ham and 1 for spam\n",
    "label_encoder = LabelEncoder()\n",
    "spam_data['label'] = label_encoder.fit_transform(spam_data['label'])"
   ],
   "id": "6439dac37ea83be7",
   "outputs": [],
   "execution_count": 5
  },
  {
   "metadata": {
    "ExecuteTime": {
     "end_time": "2024-08-02T21:39:03.811074Z",
     "start_time": "2024-08-02T21:39:03.808574Z"
    }
   },
   "cell_type": "code",
   "source": "print(spam_data.head())",
   "id": "80a3c40b898dce15",
   "outputs": [
    {
     "name": "stdout",
     "output_type": "stream",
     "text": [
      "   label                                            message\n",
      "0      0  Go until jurong point, crazy.. Available only ...\n",
      "1      0                      Ok lar... Joking wif u oni...\n",
      "2      1  Free entry in 2 a wkly comp to win FA Cup fina...\n",
      "3      0  U dun say so early hor... U c already then say...\n",
      "4      0  Nah I don't think he goes to usf, he lives aro...\n"
     ]
    }
   ],
   "execution_count": 6
  },
  {
   "metadata": {},
   "cell_type": "markdown",
   "source": "",
   "id": "16aa0a5e6f3ed155"
  },
  {
   "metadata": {},
   "cell_type": "markdown",
   "source": "## Data Processing",
   "id": "28f16c21724c9036"
  },
  {
   "metadata": {},
   "cell_type": "markdown",
   "source": "### Data Cleaning",
   "id": "1a1b3cf0aa43410a"
  },
  {
   "metadata": {
    "ExecuteTime": {
     "end_time": "2024-08-02T21:39:04.343929Z",
     "start_time": "2024-08-02T21:39:03.811769Z"
    }
   },
   "cell_type": "code",
   "source": [
    "# Removing Punctuations & Special Characters\n",
    "nltk.download('punkt')\n",
    "\n",
    "\n",
    "def process_text(text):\n",
    "    text = text.lower()\n",
    "    tokens = word_tokenize(text)\n",
    "    tokens = [word for word in tokens if word.isalnum()]\n",
    "    cleaned_text = ' '.join(tokens)\n",
    "    return cleaned_text\n",
    "\n",
    "\n",
    "spam_data['cleaned_message'] = spam_data['message'].apply(process_text)\n",
    "spam_data.drop(columns=['message'], inplace=True)"
   ],
   "id": "4c71379ed12f506b",
   "outputs": [
    {
     "name": "stderr",
     "output_type": "stream",
     "text": [
      "[nltk_data] Downloading package punkt to\n",
      "[nltk_data]     /Users/jiyamakhija/nltk_data...\n",
      "[nltk_data]   Package punkt is already up-to-date!\n"
     ]
    }
   ],
   "execution_count": 7
  },
  {
   "metadata": {
    "ExecuteTime": {
     "end_time": "2024-08-02T21:39:04.347329Z",
     "start_time": "2024-08-02T21:39:04.344694Z"
    }
   },
   "cell_type": "code",
   "source": "print(spam_data.head())",
   "id": "a061975b37e91bfb",
   "outputs": [
    {
     "name": "stdout",
     "output_type": "stream",
     "text": [
      "   label                                    cleaned_message\n",
      "0      0  go until jurong point crazy available only in ...\n",
      "1      0                            ok lar joking wif u oni\n",
      "2      1  free entry in 2 a wkly comp to win fa cup fina...\n",
      "3      0        u dun say so early hor u c already then say\n",
      "4      0  nah i do think he goes to usf he lives around ...\n"
     ]
    }
   ],
   "execution_count": 8
  },
  {
   "metadata": {},
   "cell_type": "markdown",
   "source": [
    "### Vectorization\n",
    "#### Converting cleaned text into numerical data"
   ],
   "id": "101fabf0267d88a0"
  },
  {
   "metadata": {},
   "cell_type": "markdown",
   "source": "TF-IDF (Term Frequency-Inverse Document Frequency) is a numerical statistic used to evaluate the importance of a word in a document relative to a collection of documents",
   "id": "b929eb403618c58d"
  },
  {
   "metadata": {
    "ExecuteTime": {
     "end_time": "2024-08-02T21:39:04.386390Z",
     "start_time": "2024-08-02T21:39:04.347909Z"
    }
   },
   "cell_type": "code",
   "source": [
    "# Initialize TF-IDF Vectorizer with a maximum of 1000 features\n",
    "# This limits the number of features to the 1000 most frequent terms\n",
    "vectorizer = TfidfVectorizer(max_features=1000)  \n",
    "\n",
    "# Fit the vectorizer on the cleaned messages and transform them into a TF-IDF matrix\n",
    "# X is the resulting matrix where each row is a document, and each column is a term\n",
    "X = vectorizer.fit_transform(spam_data['cleaned_message'])\n",
    "\n",
    "print(\"Shape of TF-IDF matrix:\", X.shape)"
   ],
   "id": "3bd905f274e618fc",
   "outputs": [
    {
     "name": "stdout",
     "output_type": "stream",
     "text": [
      "Shape of TF-IDF matrix: (5572, 1000)\n"
     ]
    }
   ],
   "execution_count": 9
  },
  {
   "metadata": {},
   "cell_type": "markdown",
   "source": [
    "## Preparing Data\n",
    "### Splitting the data into training (60%), validation (20%), and test (20%)"
   ],
   "id": "6adbb20a28ec5886"
  },
  {
   "metadata": {
    "ExecuteTime": {
     "end_time": "2024-08-02T21:39:04.391491Z",
     "start_time": "2024-08-02T21:39:04.387109Z"
    }
   },
   "cell_type": "code",
   "source": [
    "# Split the data into training (60%) and temp (40%) sets\n",
    "X_train, X_temp, y_train, y_temp = train_test_split(X, spam_data['label'], test_size=0.4, random_state=42)\n",
    "\n",
    "# Split the temp set into validation (20%) and test (20%) sets\n",
    "X_val, X_test, y_val, y_test = train_test_split(X_temp, y_temp, test_size=0.5, random_state=42)\n",
    "\n",
    "print(\"Training set size:\", X_train.shape)\n",
    "print(\"Validation set size:\", X_val.shape)\n",
    "print(\"Test set size:\", X_test.shape)"
   ],
   "id": "87dab6b76f4c0bb9",
   "outputs": [
    {
     "name": "stdout",
     "output_type": "stream",
     "text": [
      "Training set size: (3343, 1000)\n",
      "Validation set size: (1114, 1000)\n",
      "Test set size: (1115, 1000)\n"
     ]
    }
   ],
   "execution_count": 10
  },
  {
   "metadata": {},
   "cell_type": "markdown",
   "source": "## Building a Neural Network Model",
   "id": "a8a55be2ba77a8e8"
  },
  {
   "metadata": {
    "ExecuteTime": {
     "end_time": "2024-08-02T21:39:04.421498Z",
     "start_time": "2024-08-02T21:39:04.392164Z"
    }
   },
   "cell_type": "code",
   "source": [
    "from keras import Input\n",
    "model = Sequential([\n",
    "    Input(shape=(X_train.shape[1],)),\n",
    "    Dense(units = 256, activation = 'relu',kernel_regularizer=l2(0.01)),\n",
    "    Dropout(0.5), \n",
    "    Dense(units = 128, activation = 'relu', kernel_regularizer=l2(0.01)),\n",
    "    Dropout(0.5),\n",
    "    Dense(1, activation='sigmoid')\n",
    "])\n",
    "model.summary()"
   ],
   "id": "2da934c533d39f3f",
   "outputs": [
    {
     "data": {
      "text/plain": [
       "\u001B[1mModel: \"sequential\"\u001B[0m\n"
      ],
      "text/html": [
       "<pre style=\"white-space:pre;overflow-x:auto;line-height:normal;font-family:Menlo,'DejaVu Sans Mono',consolas,'Courier New',monospace\"><span style=\"font-weight: bold\">Model: \"sequential\"</span>\n",
       "</pre>\n"
      ]
     },
     "metadata": {},
     "output_type": "display_data"
    },
    {
     "data": {
      "text/plain": [
       "┏━━━━━━━━━━━━━━━━━━━━━━━━━━━━━━━━━┳━━━━━━━━━━━━━━━━━━━━━━━━┳━━━━━━━━━━━━━━━┓\n",
       "┃\u001B[1m \u001B[0m\u001B[1mLayer (type)                   \u001B[0m\u001B[1m \u001B[0m┃\u001B[1m \u001B[0m\u001B[1mOutput Shape          \u001B[0m\u001B[1m \u001B[0m┃\u001B[1m \u001B[0m\u001B[1m      Param #\u001B[0m\u001B[1m \u001B[0m┃\n",
       "┡━━━━━━━━━━━━━━━━━━━━━━━━━━━━━━━━━╇━━━━━━━━━━━━━━━━━━━━━━━━╇━━━━━━━━━━━━━━━┩\n",
       "│ dense (\u001B[38;5;33mDense\u001B[0m)                   │ (\u001B[38;5;45mNone\u001B[0m, \u001B[38;5;34m256\u001B[0m)            │       \u001B[38;5;34m256,256\u001B[0m │\n",
       "├─────────────────────────────────┼────────────────────────┼───────────────┤\n",
       "│ dropout (\u001B[38;5;33mDropout\u001B[0m)               │ (\u001B[38;5;45mNone\u001B[0m, \u001B[38;5;34m256\u001B[0m)            │             \u001B[38;5;34m0\u001B[0m │\n",
       "├─────────────────────────────────┼────────────────────────┼───────────────┤\n",
       "│ dense_1 (\u001B[38;5;33mDense\u001B[0m)                 │ (\u001B[38;5;45mNone\u001B[0m, \u001B[38;5;34m128\u001B[0m)            │        \u001B[38;5;34m32,896\u001B[0m │\n",
       "├─────────────────────────────────┼────────────────────────┼───────────────┤\n",
       "│ dropout_1 (\u001B[38;5;33mDropout\u001B[0m)             │ (\u001B[38;5;45mNone\u001B[0m, \u001B[38;5;34m128\u001B[0m)            │             \u001B[38;5;34m0\u001B[0m │\n",
       "├─────────────────────────────────┼────────────────────────┼───────────────┤\n",
       "│ dense_2 (\u001B[38;5;33mDense\u001B[0m)                 │ (\u001B[38;5;45mNone\u001B[0m, \u001B[38;5;34m1\u001B[0m)              │           \u001B[38;5;34m129\u001B[0m │\n",
       "└─────────────────────────────────┴────────────────────────┴───────────────┘\n"
      ],
      "text/html": [
       "<pre style=\"white-space:pre;overflow-x:auto;line-height:normal;font-family:Menlo,'DejaVu Sans Mono',consolas,'Courier New',monospace\">┏━━━━━━━━━━━━━━━━━━━━━━━━━━━━━━━━━┳━━━━━━━━━━━━━━━━━━━━━━━━┳━━━━━━━━━━━━━━━┓\n",
       "┃<span style=\"font-weight: bold\"> Layer (type)                    </span>┃<span style=\"font-weight: bold\"> Output Shape           </span>┃<span style=\"font-weight: bold\">       Param # </span>┃\n",
       "┡━━━━━━━━━━━━━━━━━━━━━━━━━━━━━━━━━╇━━━━━━━━━━━━━━━━━━━━━━━━╇━━━━━━━━━━━━━━━┩\n",
       "│ dense (<span style=\"color: #0087ff; text-decoration-color: #0087ff\">Dense</span>)                   │ (<span style=\"color: #00d7ff; text-decoration-color: #00d7ff\">None</span>, <span style=\"color: #00af00; text-decoration-color: #00af00\">256</span>)            │       <span style=\"color: #00af00; text-decoration-color: #00af00\">256,256</span> │\n",
       "├─────────────────────────────────┼────────────────────────┼───────────────┤\n",
       "│ dropout (<span style=\"color: #0087ff; text-decoration-color: #0087ff\">Dropout</span>)               │ (<span style=\"color: #00d7ff; text-decoration-color: #00d7ff\">None</span>, <span style=\"color: #00af00; text-decoration-color: #00af00\">256</span>)            │             <span style=\"color: #00af00; text-decoration-color: #00af00\">0</span> │\n",
       "├─────────────────────────────────┼────────────────────────┼───────────────┤\n",
       "│ dense_1 (<span style=\"color: #0087ff; text-decoration-color: #0087ff\">Dense</span>)                 │ (<span style=\"color: #00d7ff; text-decoration-color: #00d7ff\">None</span>, <span style=\"color: #00af00; text-decoration-color: #00af00\">128</span>)            │        <span style=\"color: #00af00; text-decoration-color: #00af00\">32,896</span> │\n",
       "├─────────────────────────────────┼────────────────────────┼───────────────┤\n",
       "│ dropout_1 (<span style=\"color: #0087ff; text-decoration-color: #0087ff\">Dropout</span>)             │ (<span style=\"color: #00d7ff; text-decoration-color: #00d7ff\">None</span>, <span style=\"color: #00af00; text-decoration-color: #00af00\">128</span>)            │             <span style=\"color: #00af00; text-decoration-color: #00af00\">0</span> │\n",
       "├─────────────────────────────────┼────────────────────────┼───────────────┤\n",
       "│ dense_2 (<span style=\"color: #0087ff; text-decoration-color: #0087ff\">Dense</span>)                 │ (<span style=\"color: #00d7ff; text-decoration-color: #00d7ff\">None</span>, <span style=\"color: #00af00; text-decoration-color: #00af00\">1</span>)              │           <span style=\"color: #00af00; text-decoration-color: #00af00\">129</span> │\n",
       "└─────────────────────────────────┴────────────────────────┴───────────────┘\n",
       "</pre>\n"
      ]
     },
     "metadata": {},
     "output_type": "display_data"
    },
    {
     "data": {
      "text/plain": [
       "\u001B[1m Total params: \u001B[0m\u001B[38;5;34m289,281\u001B[0m (1.10 MB)\n"
      ],
      "text/html": [
       "<pre style=\"white-space:pre;overflow-x:auto;line-height:normal;font-family:Menlo,'DejaVu Sans Mono',consolas,'Courier New',monospace\"><span style=\"font-weight: bold\"> Total params: </span><span style=\"color: #00af00; text-decoration-color: #00af00\">289,281</span> (1.10 MB)\n",
       "</pre>\n"
      ]
     },
     "metadata": {},
     "output_type": "display_data"
    },
    {
     "data": {
      "text/plain": [
       "\u001B[1m Trainable params: \u001B[0m\u001B[38;5;34m289,281\u001B[0m (1.10 MB)\n"
      ],
      "text/html": [
       "<pre style=\"white-space:pre;overflow-x:auto;line-height:normal;font-family:Menlo,'DejaVu Sans Mono',consolas,'Courier New',monospace\"><span style=\"font-weight: bold\"> Trainable params: </span><span style=\"color: #00af00; text-decoration-color: #00af00\">289,281</span> (1.10 MB)\n",
       "</pre>\n"
      ]
     },
     "metadata": {},
     "output_type": "display_data"
    },
    {
     "data": {
      "text/plain": [
       "\u001B[1m Non-trainable params: \u001B[0m\u001B[38;5;34m0\u001B[0m (0.00 B)\n"
      ],
      "text/html": [
       "<pre style=\"white-space:pre;overflow-x:auto;line-height:normal;font-family:Menlo,'DejaVu Sans Mono',consolas,'Courier New',monospace\"><span style=\"font-weight: bold\"> Non-trainable params: </span><span style=\"color: #00af00; text-decoration-color: #00af00\">0</span> (0.00 B)\n",
       "</pre>\n"
      ]
     },
     "metadata": {},
     "output_type": "display_data"
    }
   ],
   "execution_count": 11
  },
  {
   "metadata": {},
   "cell_type": "markdown",
   "source": "## Training the Model",
   "id": "f062ad804ece5d32"
  },
  {
   "metadata": {
    "ExecuteTime": {
     "end_time": "2024-08-02T21:39:14.891237Z",
     "start_time": "2024-08-02T21:39:04.423784Z"
    }
   },
   "cell_type": "code",
   "source": [
    "# Compile the model\n",
    "model.compile(\n",
    "    optimizer=tf.keras.optimizers.Adam(0.001), \n",
    "    loss=tf.keras.losses.BinaryCrossentropy(), \n",
    "    metrics=['accuracy']\n",
    ")\n",
    "from tensorflow.keras.callbacks import EarlyStopping\n",
    "\n",
    "early_stopping = EarlyStopping(monitor='val_loss', patience=5, restore_best_weights=True)\n",
    "\n",
    "# Fit model with early stopping\n",
    "history = model.fit(X_train, y_train, epochs=50, batch_size = 32, validation_data=(X_val, y_val), callbacks=[early_stopping])\n",
    "'''# Train the model\n",
    "history = model.fit(\n",
    "    X_train, y_train,\n",
    "    epochs=100,\n",
    "    validation_data=(X_val, y_val)\n",
    ")'''"
   ],
   "id": "2651d55c38ebe037",
   "outputs": [
    {
     "name": "stdout",
     "output_type": "stream",
     "text": [
      "Epoch 1/50\n",
      "\u001B[1m105/105\u001B[0m \u001B[32m━━━━━━━━━━━━━━━━━━━━\u001B[0m\u001B[37m\u001B[0m \u001B[1m1s\u001B[0m 4ms/step - accuracy: 0.8064 - loss: 3.3665 - val_accuracy: 0.8573 - val_loss: 0.4691\n",
      "Epoch 2/50\n",
      "\u001B[1m105/105\u001B[0m \u001B[32m━━━━━━━━━━━━━━━━━━━━\u001B[0m\u001B[37m\u001B[0m \u001B[1m0s\u001B[0m 2ms/step - accuracy: 0.8618 - loss: 0.4146 - val_accuracy: 0.8573 - val_loss: 0.3457\n",
      "Epoch 3/50\n",
      "\u001B[1m105/105\u001B[0m \u001B[32m━━━━━━━━━━━━━━━━━━━━\u001B[0m\u001B[37m\u001B[0m \u001B[1m0s\u001B[0m 2ms/step - accuracy: 0.8663 - loss: 0.3247 - val_accuracy: 0.8573 - val_loss: 0.3245\n",
      "Epoch 4/50\n",
      "\u001B[1m105/105\u001B[0m \u001B[32m━━━━━━━━━━━━━━━━━━━━\u001B[0m\u001B[37m\u001B[0m \u001B[1m0s\u001B[0m 2ms/step - accuracy: 0.8682 - loss: 0.3103 - val_accuracy: 0.8869 - val_loss: 0.3172\n",
      "Epoch 5/50\n",
      "\u001B[1m105/105\u001B[0m \u001B[32m━━━━━━━━━━━━━━━━━━━━\u001B[0m\u001B[37m\u001B[0m \u001B[1m0s\u001B[0m 2ms/step - accuracy: 0.9122 - loss: 0.2969 - val_accuracy: 0.9156 - val_loss: 0.3018\n",
      "Epoch 6/50\n",
      "\u001B[1m105/105\u001B[0m \u001B[32m━━━━━━━━━━━━━━━━━━━━\u001B[0m\u001B[37m\u001B[0m \u001B[1m0s\u001B[0m 2ms/step - accuracy: 0.9252 - loss: 0.2810 - val_accuracy: 0.9264 - val_loss: 0.2924\n",
      "Epoch 7/50\n",
      "\u001B[1m105/105\u001B[0m \u001B[32m━━━━━━━━━━━━━━━━━━━━\u001B[0m\u001B[37m\u001B[0m \u001B[1m0s\u001B[0m 2ms/step - accuracy: 0.9375 - loss: 0.2785 - val_accuracy: 0.9327 - val_loss: 0.2877\n",
      "Epoch 8/50\n",
      "\u001B[1m105/105\u001B[0m \u001B[32m━━━━━━━━━━━━━━━━━━━━\u001B[0m\u001B[37m\u001B[0m \u001B[1m0s\u001B[0m 2ms/step - accuracy: 0.9492 - loss: 0.2627 - val_accuracy: 0.9569 - val_loss: 0.2809\n",
      "Epoch 9/50\n",
      "\u001B[1m105/105\u001B[0m \u001B[32m━━━━━━━━━━━━━━━━━━━━\u001B[0m\u001B[37m\u001B[0m \u001B[1m0s\u001B[0m 2ms/step - accuracy: 0.9488 - loss: 0.2600 - val_accuracy: 0.9506 - val_loss: 0.2746\n",
      "Epoch 10/50\n",
      "\u001B[1m105/105\u001B[0m \u001B[32m━━━━━━━━━━━━━━━━━━━━\u001B[0m\u001B[37m\u001B[0m \u001B[1m0s\u001B[0m 2ms/step - accuracy: 0.9484 - loss: 0.2636 - val_accuracy: 0.9354 - val_loss: 0.2723\n",
      "Epoch 11/50\n",
      "\u001B[1m105/105\u001B[0m \u001B[32m━━━━━━━━━━━━━━━━━━━━\u001B[0m\u001B[37m\u001B[0m \u001B[1m0s\u001B[0m 2ms/step - accuracy: 0.9546 - loss: 0.2438 - val_accuracy: 0.9354 - val_loss: 0.2727\n",
      "Epoch 12/50\n",
      "\u001B[1m105/105\u001B[0m \u001B[32m━━━━━━━━━━━━━━━━━━━━\u001B[0m\u001B[37m\u001B[0m \u001B[1m0s\u001B[0m 2ms/step - accuracy: 0.9553 - loss: 0.2434 - val_accuracy: 0.9623 - val_loss: 0.2620\n",
      "Epoch 13/50\n",
      "\u001B[1m105/105\u001B[0m \u001B[32m━━━━━━━━━━━━━━━━━━━━\u001B[0m\u001B[37m\u001B[0m \u001B[1m0s\u001B[0m 2ms/step - accuracy: 0.9619 - loss: 0.2444 - val_accuracy: 0.9659 - val_loss: 0.2583\n",
      "Epoch 14/50\n",
      "\u001B[1m105/105\u001B[0m \u001B[32m━━━━━━━━━━━━━━━━━━━━\u001B[0m\u001B[37m\u001B[0m \u001B[1m0s\u001B[0m 2ms/step - accuracy: 0.9712 - loss: 0.2345 - val_accuracy: 0.9623 - val_loss: 0.2496\n",
      "Epoch 15/50\n",
      "\u001B[1m105/105\u001B[0m \u001B[32m━━━━━━━━━━━━━━━━━━━━\u001B[0m\u001B[37m\u001B[0m \u001B[1m0s\u001B[0m 2ms/step - accuracy: 0.9695 - loss: 0.2248 - val_accuracy: 0.9587 - val_loss: 0.2489\n",
      "Epoch 16/50\n",
      "\u001B[1m105/105\u001B[0m \u001B[32m━━━━━━━━━━━━━━━━━━━━\u001B[0m\u001B[37m\u001B[0m \u001B[1m0s\u001B[0m 2ms/step - accuracy: 0.9700 - loss: 0.2215 - val_accuracy: 0.9695 - val_loss: 0.2457\n",
      "Epoch 17/50\n",
      "\u001B[1m105/105\u001B[0m \u001B[32m━━━━━━━━━━━━━━━━━━━━\u001B[0m\u001B[37m\u001B[0m \u001B[1m0s\u001B[0m 2ms/step - accuracy: 0.9763 - loss: 0.2240 - val_accuracy: 0.9542 - val_loss: 0.2466\n",
      "Epoch 18/50\n",
      "\u001B[1m105/105\u001B[0m \u001B[32m━━━━━━━━━━━━━━━━━━━━\u001B[0m\u001B[37m\u001B[0m \u001B[1m0s\u001B[0m 2ms/step - accuracy: 0.9745 - loss: 0.2119 - val_accuracy: 0.9668 - val_loss: 0.2357\n",
      "Epoch 19/50\n",
      "\u001B[1m105/105\u001B[0m \u001B[32m━━━━━━━━━━━━━━━━━━━━\u001B[0m\u001B[37m\u001B[0m \u001B[1m0s\u001B[0m 2ms/step - accuracy: 0.9795 - loss: 0.2087 - val_accuracy: 0.9515 - val_loss: 0.2542\n",
      "Epoch 20/50\n",
      "\u001B[1m105/105\u001B[0m \u001B[32m━━━━━━━━━━━━━━━━━━━━\u001B[0m\u001B[37m\u001B[0m \u001B[1m0s\u001B[0m 2ms/step - accuracy: 0.9770 - loss: 0.1999 - val_accuracy: 0.9560 - val_loss: 0.2410\n",
      "Epoch 21/50\n",
      "\u001B[1m105/105\u001B[0m \u001B[32m━━━━━━━━━━━━━━━━━━━━\u001B[0m\u001B[37m\u001B[0m \u001B[1m0s\u001B[0m 2ms/step - accuracy: 0.9769 - loss: 0.2135 - val_accuracy: 0.9686 - val_loss: 0.2293\n",
      "Epoch 22/50\n",
      "\u001B[1m105/105\u001B[0m \u001B[32m━━━━━━━━━━━━━━━━━━━━\u001B[0m\u001B[37m\u001B[0m \u001B[1m0s\u001B[0m 2ms/step - accuracy: 0.9766 - loss: 0.2005 - val_accuracy: 0.9569 - val_loss: 0.2271\n",
      "Epoch 23/50\n",
      "\u001B[1m105/105\u001B[0m \u001B[32m━━━━━━━━━━━━━━━━━━━━\u001B[0m\u001B[37m\u001B[0m \u001B[1m0s\u001B[0m 2ms/step - accuracy: 0.9810 - loss: 0.1931 - val_accuracy: 0.9686 - val_loss: 0.2229\n",
      "Epoch 24/50\n",
      "\u001B[1m105/105\u001B[0m \u001B[32m━━━━━━━━━━━━━━━━━━━━\u001B[0m\u001B[37m\u001B[0m \u001B[1m0s\u001B[0m 2ms/step - accuracy: 0.9791 - loss: 0.1945 - val_accuracy: 0.9695 - val_loss: 0.2210\n",
      "Epoch 25/50\n",
      "\u001B[1m105/105\u001B[0m \u001B[32m━━━━━━━━━━━━━━━━━━━━\u001B[0m\u001B[37m\u001B[0m \u001B[1m0s\u001B[0m 2ms/step - accuracy: 0.9839 - loss: 0.1894 - val_accuracy: 0.9713 - val_loss: 0.2178\n",
      "Epoch 26/50\n",
      "\u001B[1m105/105\u001B[0m \u001B[32m━━━━━━━━━━━━━━━━━━━━\u001B[0m\u001B[37m\u001B[0m \u001B[1m0s\u001B[0m 2ms/step - accuracy: 0.9824 - loss: 0.1901 - val_accuracy: 0.9650 - val_loss: 0.2181\n",
      "Epoch 27/50\n",
      "\u001B[1m105/105\u001B[0m \u001B[32m━━━━━━━━━━━━━━━━━━━━\u001B[0m\u001B[37m\u001B[0m \u001B[1m0s\u001B[0m 2ms/step - accuracy: 0.9790 - loss: 0.1883 - val_accuracy: 0.9659 - val_loss: 0.2138\n",
      "Epoch 28/50\n",
      "\u001B[1m105/105\u001B[0m \u001B[32m━━━━━━━━━━━━━━━━━━━━\u001B[0m\u001B[37m\u001B[0m \u001B[1m0s\u001B[0m 2ms/step - accuracy: 0.9829 - loss: 0.1834 - val_accuracy: 0.9695 - val_loss: 0.2142\n",
      "Epoch 29/50\n",
      "\u001B[1m105/105\u001B[0m \u001B[32m━━━━━━━━━━━━━━━━━━━━\u001B[0m\u001B[37m\u001B[0m \u001B[1m0s\u001B[0m 2ms/step - accuracy: 0.9823 - loss: 0.1840 - val_accuracy: 0.9659 - val_loss: 0.2216\n",
      "Epoch 30/50\n",
      "\u001B[1m105/105\u001B[0m \u001B[32m━━━━━━━━━━━━━━━━━━━━\u001B[0m\u001B[37m\u001B[0m \u001B[1m0s\u001B[0m 2ms/step - accuracy: 0.9802 - loss: 0.1890 - val_accuracy: 0.9695 - val_loss: 0.2060\n",
      "Epoch 31/50\n",
      "\u001B[1m105/105\u001B[0m \u001B[32m━━━━━━━━━━━━━━━━━━━━\u001B[0m\u001B[37m\u001B[0m \u001B[1m0s\u001B[0m 2ms/step - accuracy: 0.9885 - loss: 0.1677 - val_accuracy: 0.9695 - val_loss: 0.2177\n",
      "Epoch 32/50\n",
      "\u001B[1m105/105\u001B[0m \u001B[32m━━━━━━━━━━━━━━━━━━━━\u001B[0m\u001B[37m\u001B[0m \u001B[1m0s\u001B[0m 2ms/step - accuracy: 0.9875 - loss: 0.1665 - val_accuracy: 0.9731 - val_loss: 0.2025\n",
      "Epoch 33/50\n",
      "\u001B[1m105/105\u001B[0m \u001B[32m━━━━━━━━━━━━━━━━━━━━\u001B[0m\u001B[37m\u001B[0m \u001B[1m0s\u001B[0m 2ms/step - accuracy: 0.9869 - loss: 0.1679 - val_accuracy: 0.9740 - val_loss: 0.2016\n",
      "Epoch 34/50\n",
      "\u001B[1m105/105\u001B[0m \u001B[32m━━━━━━━━━━━━━━━━━━━━\u001B[0m\u001B[37m\u001B[0m \u001B[1m0s\u001B[0m 2ms/step - accuracy: 0.9835 - loss: 0.1699 - val_accuracy: 0.9686 - val_loss: 0.2035\n",
      "Epoch 35/50\n",
      "\u001B[1m105/105\u001B[0m \u001B[32m━━━━━━━━━━━━━━━━━━━━\u001B[0m\u001B[37m\u001B[0m \u001B[1m0s\u001B[0m 2ms/step - accuracy: 0.9816 - loss: 0.1684 - val_accuracy: 0.9695 - val_loss: 0.2062\n",
      "Epoch 36/50\n",
      "\u001B[1m105/105\u001B[0m \u001B[32m━━━━━━━━━━━━━━━━━━━━\u001B[0m\u001B[37m\u001B[0m \u001B[1m0s\u001B[0m 2ms/step - accuracy: 0.9834 - loss: 0.1668 - val_accuracy: 0.9740 - val_loss: 0.1948\n",
      "Epoch 37/50\n",
      "\u001B[1m105/105\u001B[0m \u001B[32m━━━━━━━━━━━━━━━━━━━━\u001B[0m\u001B[37m\u001B[0m \u001B[1m0s\u001B[0m 2ms/step - accuracy: 0.9872 - loss: 0.1612 - val_accuracy: 0.9695 - val_loss: 0.2060\n",
      "Epoch 38/50\n",
      "\u001B[1m105/105\u001B[0m \u001B[32m━━━━━━━━━━━━━━━━━━━━\u001B[0m\u001B[37m\u001B[0m \u001B[1m0s\u001B[0m 2ms/step - accuracy: 0.9853 - loss: 0.1681 - val_accuracy: 0.9686 - val_loss: 0.2027\n",
      "Epoch 39/50\n",
      "\u001B[1m105/105\u001B[0m \u001B[32m━━━━━━━━━━━━━━━━━━━━\u001B[0m\u001B[37m\u001B[0m \u001B[1m0s\u001B[0m 2ms/step - accuracy: 0.9869 - loss: 0.1595 - val_accuracy: 0.9677 - val_loss: 0.1959\n",
      "Epoch 40/50\n",
      "\u001B[1m105/105\u001B[0m \u001B[32m━━━━━━━━━━━━━━━━━━━━\u001B[0m\u001B[37m\u001B[0m \u001B[1m0s\u001B[0m 2ms/step - accuracy: 0.9878 - loss: 0.1603 - val_accuracy: 0.9713 - val_loss: 0.1909\n",
      "Epoch 41/50\n",
      "\u001B[1m105/105\u001B[0m \u001B[32m━━━━━━━━━━━━━━━━━━━━\u001B[0m\u001B[37m\u001B[0m \u001B[1m0s\u001B[0m 2ms/step - accuracy: 0.9889 - loss: 0.1498 - val_accuracy: 0.9695 - val_loss: 0.2112\n",
      "Epoch 42/50\n",
      "\u001B[1m105/105\u001B[0m \u001B[32m━━━━━━━━━━━━━━━━━━━━\u001B[0m\u001B[37m\u001B[0m \u001B[1m0s\u001B[0m 2ms/step - accuracy: 0.9847 - loss: 0.1665 - val_accuracy: 0.9659 - val_loss: 0.2015\n",
      "Epoch 43/50\n",
      "\u001B[1m105/105\u001B[0m \u001B[32m━━━━━━━━━━━━━━━━━━━━\u001B[0m\u001B[37m\u001B[0m \u001B[1m0s\u001B[0m 2ms/step - accuracy: 0.9881 - loss: 0.1511 - val_accuracy: 0.9740 - val_loss: 0.1907\n",
      "Epoch 44/50\n",
      "\u001B[1m105/105\u001B[0m \u001B[32m━━━━━━━━━━━━━━━━━━━━\u001B[0m\u001B[37m\u001B[0m \u001B[1m0s\u001B[0m 2ms/step - accuracy: 0.9877 - loss: 0.1482 - val_accuracy: 0.9749 - val_loss: 0.1922\n",
      "Epoch 45/50\n",
      "\u001B[1m105/105\u001B[0m \u001B[32m━━━━━━━━━━━━━━━━━━━━\u001B[0m\u001B[37m\u001B[0m \u001B[1m0s\u001B[0m 2ms/step - accuracy: 0.9888 - loss: 0.1556 - val_accuracy: 0.9677 - val_loss: 0.2007\n",
      "Epoch 46/50\n",
      "\u001B[1m105/105\u001B[0m \u001B[32m━━━━━━━━━━━━━━━━━━━━\u001B[0m\u001B[37m\u001B[0m \u001B[1m0s\u001B[0m 2ms/step - accuracy: 0.9879 - loss: 0.1519 - val_accuracy: 0.9686 - val_loss: 0.1910\n",
      "Epoch 47/50\n",
      "\u001B[1m105/105\u001B[0m \u001B[32m━━━━━━━━━━━━━━━━━━━━\u001B[0m\u001B[37m\u001B[0m \u001B[1m0s\u001B[0m 2ms/step - accuracy: 0.9887 - loss: 0.1508 - val_accuracy: 0.9695 - val_loss: 0.2027\n",
      "Epoch 48/50\n",
      "\u001B[1m105/105\u001B[0m \u001B[32m━━━━━━━━━━━━━━━━━━━━\u001B[0m\u001B[37m\u001B[0m \u001B[1m0s\u001B[0m 2ms/step - accuracy: 0.9914 - loss: 0.1468 - val_accuracy: 0.9704 - val_loss: 0.1919\n"
     ]
    },
    {
     "data": {
      "text/plain": [
       "'# Train the model\\nhistory = model.fit(\\n    X_train, y_train,\\n    epochs=100,\\n    validation_data=(X_val, y_val)\\n)'"
      ]
     },
     "execution_count": 12,
     "metadata": {},
     "output_type": "execute_result"
    }
   ],
   "execution_count": 12
  },
  {
   "metadata": {},
   "cell_type": "markdown",
   "source": "## Evaluating the Model",
   "id": "1f1eb9dc3a001eee"
  },
  {
   "metadata": {
    "ExecuteTime": {
     "end_time": "2024-08-02T21:39:15.080464Z",
     "start_time": "2024-08-02T21:39:14.892031Z"
    }
   },
   "cell_type": "code",
   "source": [
    "# Use the trained model to predict probabilities for the test data\n",
    "y_pred_prob = model.predict(X_test)\n",
    "\n",
    "# Convert predicted probabilities to binary class labels\n",
    "# If the probability is greater than 0.5, classify as positive class (1, spam)\n",
    "# Otherwise, classify as negative class (0, ham)\n",
    "y_pred = (y_pred_prob > 0.5).astype(\"int32\")\n",
    "\n",
    "# Calculate the confusion matrix using true labels and predicted labels\n",
    "conf_matrix = confusion_matrix(y_test, y_pred)\n",
    "\n",
    "\n",
    "# Plot the confusion matrix as a heatmap\n",
    "plt.figure(figsize=(6, 4))\n",
    "sns.heatmap(conf_matrix, annot=True, cmap='Blues', fmt='d')\n",
    "plt.title('Confusion Matrix')\n",
    "plt.xlabel('Predicted Label')\n",
    "plt.ylabel('True Label')\n",
    "plt.xticks(ticks=[0.5, 1.5], labels=['Ham', 'Spam'])\n",
    "plt.yticks(ticks=[0.5, 1.5], labels=['Ham', 'Spam'])\n",
    "plt.show()"
   ],
   "id": "b559321b41c987a5",
   "outputs": [
    {
     "name": "stdout",
     "output_type": "stream",
     "text": [
      "\u001B[1m35/35\u001B[0m \u001B[32m━━━━━━━━━━━━━━━━━━━━\u001B[0m\u001B[37m\u001B[0m \u001B[1m0s\u001B[0m 1ms/step \n"
     ]
    },
    {
     "data": {
      "text/plain": [
       "<Figure size 600x400 with 2 Axes>"
      ],
      "image/png": "[encoded data removed]"
     },
     "metadata": {},
     "output_type": "display_data"
    }
   ],
   "execution_count": 13
  },
  {
   "metadata": {},
   "cell_type": "markdown",
   "source": [
    "##### True Negatives (970): The model correctly identified 970 messages as ham (not spam).\n",
    "##### True Positives (128): The model correctly identified 128 messages as spam.\n",
    "##### False Positives (5) and False Negatives (12): The model incorrectly classified 5 ham messages as spam and 12 spam messages as ham."
   ],
   "id": "eb397868d6cae452"
  },
  {
   "metadata": {},
   "cell_type": "markdown",
   "source": "## Visualizing Training and Validation Performance",
   "id": "78cefc8c24874e6e"
  },
  {
   "metadata": {
    "ExecuteTime": {
     "end_time": "2024-08-02T21:41:40.806874Z",
     "start_time": "2024-08-02T21:41:40.659085Z"
    }
   },
   "cell_type": "code",
   "source": [
    "def plot_learning_curves(history):\n",
    "    plt.figure(figsize=(12, 5))\n",
    "    plt.subplot(1, 2, 1)\n",
    "    plt.plot(history.history['accuracy'], label='Training Accuracy')\n",
    "    plt.plot(history.history['val_accuracy'], label='Validation Accuracy')\n",
    "    plt.title('Model Accuracy')\n",
    "    plt.xlabel('Epoch')\n",
    "    plt.ylabel('Accuracy')\n",
    "    plt.legend()\n",
    "\n",
    "    plt.subplot(1, 2, 2)\n",
    "    plt.plot(history.history['loss'], label='Training Loss')\n",
    "    plt.plot(history.history['val_loss'], label='Validation Loss')\n",
    "    plt.title('Model Loss')\n",
    "    plt.xlabel('Epoch')\n",
    "    plt.ylabel('Loss')\n",
    "    plt.legend()\n",
    "\n",
    "    plt.show()\n",
    "\n",
    "plot_learning_curves(history)"
   ],
   "id": "b86265f3372b7ca0",
   "outputs": [
    {
     "data": {
      "text/plain": [
       "<Figure size 1200x500 with 2 Axes>"
      ],
      "image/png": "[encoded data removed]"
     },
     "metadata": {},
     "output_type": "display_data"
    }
   ],
   "execution_count": 16
  },
  {
   "metadata": {},
   "cell_type": "markdown",
   "source": "##### The plots show the model’s accuracy increasing to 98% for training and 96% for validation, indicating strong learning and good generalization. The training and validation loss curves align closely, suggesting minimal overfitting and stable convergence. Overall, the model effectively balances learning on training and unseen data.",
   "id": "6c4a9abba84e6a75"
  },
  {
   "metadata": {},
   "cell_type": "markdown",
   "source": [
    "## Predict Spam or Ham from User Input\n",
    "##### In this section, you can input custom SMS messages and see whether they are classified as spam or ham by the trained model. Run the cell below to test the model."
   ],
   "id": "ceaaa2feab201ed1"
  },
  {
   "metadata": {
    "ExecuteTime": {
     "end_time": "2024-08-02T21:39:18.698941Z",
     "start_time": "2024-08-02T21:39:15.081318Z"
    }
   },
   "cell_type": "code",
   "source": [
    "def predict_spam_or_ham(input_text):\n",
    "    # Preprocess the input text\n",
    "    cleaned_text = process_text(input_text)\n",
    "    # Transform the text to a TF-IDF vector\n",
    "    input_vector = vectorizer.transform([cleaned_text])\n",
    "    # Predict the probability of spam\n",
    "    predicted_prob = model.predict(input_vector)\n",
    "    # Determine class based on threshold (0 = Ham, 1 = Spam)\n",
    "    predicted_class = (predicted_prob > 0.5).astype(\"int32\")[0][0]\n",
    "    return \"Spam\" if predicted_class == 1 else \"Ham\"\n",
    "\n",
    "# Get user input\n",
    "user_input = input(\"Enter an SMS message to classify: \")\n",
    "\n",
    "# Predict and print the result\n",
    "result = predict_spam_or_ham(user_input)\n",
    "print(f\"The message is classified as: {result}\")"
   ],
   "id": "c9fed24a72b10d09",
   "outputs": [
    {
     "name": "stdout",
     "output_type": "stream",
     "text": [
      "\u001B[1m1/1\u001B[0m \u001B[32m━━━━━━━━━━━━━━━━━━━━\u001B[0m\u001B[37m\u001B[0m \u001B[1m0s\u001B[0m 16ms/step\n",
      "The message is classified as: Ham\n"
     ]
    }
   ],
   "execution_count": 14
  }
 ],
 "metadata": {
  "kernelspec": {
   "display_name": "Python 3",
   "language": "python",
   "name": "python3"
  },
  "language_info": {
   "codemirror_mode": {
    "name": "ipython",
    "version": 2
   },
   "file_extension": ".py",
   "mimetype": "text/x-python",
   "name": "python",
   "nbconvert_exporter": "python",
   "pygments_lexer": "ipython2",
   "version": "2.7.6"
  }
 },
 "nbformat": 4,
 "nbformat_minor": 5
}
