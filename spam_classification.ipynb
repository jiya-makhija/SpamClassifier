{
 "cells": [
  {
   "cell_type": "code",
   "id": "initial_id",
   "metadata": {
    "collapsed": true,
    "ExecuteTime": {
     "end_time": "2024-08-02T19:46:38.445993Z",
     "start_time": "2024-08-02T19:46:38.410500Z"
    }
   },
   "source": [
    "import nltk\n",
    "import pandas as pd\n",
    "import numpy as np\n",
    "import tensorflow as tf\n",
    "from nltk import word_tokenize\n",
    "from sklearn.preprocessing import LabelEncoder  # converts categorical labels into numerical values.\n",
    "from sklearn.model_selection import train_test_split\n",
    "from sklearn.feature_extraction.text import TfidfVectorizer\n",
    "from tensorflow.keras.models import Sequential\n",
    "from tensorflow.keras.layers import Dense"
   ],
   "outputs": [],
   "execution_count": 22
  },
  {
   "metadata": {
    "ExecuteTime": {
     "end_time": "2024-08-02T19:31:23.231266Z",
     "start_time": "2024-08-02T19:31:23.218681Z"
    }
   },
   "cell_type": "code",
   "source": "spam_data = pd.read_csv('spam.csv', encoding='latin-1', usecols=[0, 1], names=['label', 'message'], skiprows=1)",
   "id": "da3fd5006c42cda1",
   "outputs": [],
   "execution_count": 9
  },
  {
   "metadata": {
    "ExecuteTime": {
     "end_time": "2024-08-02T19:31:34.790230Z",
     "start_time": "2024-08-02T19:31:34.786367Z"
    }
   },
   "cell_type": "code",
   "source": "print(spam_data.head())",
   "id": "32b5df9dc4f39518",
   "outputs": [
    {
     "name": "stdout",
     "output_type": "stream",
     "text": [
      "  label                                            message\n",
      "0   ham  Go until jurong point, crazy.. Available only ...\n",
      "1   ham                      Ok lar... Joking wif u oni...\n",
      "2  spam  Free entry in 2 a wkly comp to win FA Cup fina...\n",
      "3   ham  U dun say so early hor... U c already then say...\n",
      "4   ham  Nah I don't think he goes to usf, he lives aro...\n"
     ]
    }
   ],
   "execution_count": 10
  },
  {
   "metadata": {
    "ExecuteTime": {
     "end_time": "2024-08-02T19:32:01.067943Z",
     "start_time": "2024-08-02T19:32:01.062676Z"
    }
   },
   "cell_type": "code",
   "source": [
    "# converting label to 0 for ham and 1 for spam\n",
    "label_encoder = LabelEncoder()\n",
    "spam_data['label'] = label_encoder.fit_transform(spam_data['label'])"
   ],
   "id": "6439dac37ea83be7",
   "outputs": [],
   "execution_count": 12
  },
  {
   "metadata": {
    "ExecuteTime": {
     "end_time": "2024-08-02T19:32:02.370615Z",
     "start_time": "2024-08-02T19:32:02.366919Z"
    }
   },
   "cell_type": "code",
   "source": "print(spam_data.head())",
   "id": "80a3c40b898dce15",
   "outputs": [
    {
     "name": "stdout",
     "output_type": "stream",
     "text": [
      "   label                                            message\n",
      "0      0  Go until jurong point, crazy.. Available only ...\n",
      "1      0                      Ok lar... Joking wif u oni...\n",
      "2      1  Free entry in 2 a wkly comp to win FA Cup fina...\n",
      "3      0  U dun say so early hor... U c already then say...\n",
      "4      0  Nah I don't think he goes to usf, he lives aro...\n"
     ]
    }
   ],
   "execution_count": 13
  },
  {
   "metadata": {},
   "cell_type": "markdown",
   "source": "",
   "id": "16aa0a5e6f3ed155"
  },
  {
   "metadata": {},
   "cell_type": "markdown",
   "source": "## Data Processing",
   "id": "28f16c21724c9036"
  },
  {
   "metadata": {},
   "cell_type": "markdown",
   "source": "### Data Cleaning",
   "id": "1a1b3cf0aa43410a"
  },
  {
   "metadata": {
    "ExecuteTime": {
     "end_time": "2024-08-02T19:32:06.702728Z",
     "start_time": "2024-08-02T19:32:06.246349Z"
    }
   },
   "cell_type": "code",
   "source": [
    "# Removing Punctuations & Special Characters\n",
    "nltk.download('punkt')\n",
    "\n",
    "\n",
    "def process_text(text):\n",
    "    text = text.lower()\n",
    "    tokens = word_tokenize(text)\n",
    "    tokens = [word for word in tokens if word.isalnum()]\n",
    "    cleaned_text = ' '.join(tokens)\n",
    "    return cleaned_text\n",
    "\n",
    "\n",
    "spam_data['cleaned_message'] = spam_data['message'].apply(process_text)\n",
    "spam_data.drop(columns=['message'], inplace=True)"
   ],
   "id": "4c71379ed12f506b",
   "outputs": [
    {
     "name": "stderr",
     "output_type": "stream",
     "text": [
      "[nltk_data] Downloading package punkt to\n",
      "[nltk_data]     /Users/jiyamakhija/nltk_data...\n",
      "[nltk_data]   Package punkt is already up-to-date!\n"
     ]
    }
   ],
   "execution_count": 14
  },
  {
   "metadata": {
    "ExecuteTime": {
     "end_time": "2024-08-02T19:32:12.479479Z",
     "start_time": "2024-08-02T19:32:12.476114Z"
    }
   },
   "cell_type": "code",
   "source": "print(spam_data.head())",
   "id": "a061975b37e91bfb",
   "outputs": [
    {
     "name": "stdout",
     "output_type": "stream",
     "text": [
      "   label                                    cleaned_message\n",
      "0      0  go until jurong point crazy available only in ...\n",
      "1      0                            ok lar joking wif u oni\n",
      "2      1  free entry in 2 a wkly comp to win fa cup fina...\n",
      "3      0        u dun say so early hor u c already then say\n",
      "4      0  nah i do think he goes to usf he lives around ...\n"
     ]
    }
   ],
   "execution_count": 15
  },
  {
   "metadata": {},
   "cell_type": "markdown",
   "source": [
    "### Vectorization\n",
    "#### Converting cleaned text into numerical data"
   ],
   "id": "101fabf0267d88a0"
  },
  {
   "metadata": {},
   "cell_type": "markdown",
   "source": "TF-IDF (Term Frequency-Inverse Document Frequency) is a numerical statistic used to evaluate the importance of a word in a document relative to a collection of documents",
   "id": "b929eb403618c58d"
  },
  {
   "metadata": {
    "ExecuteTime": {
     "end_time": "2024-08-02T19:43:34.988855Z",
     "start_time": "2024-08-02T19:43:34.924323Z"
    }
   },
   "cell_type": "code",
   "source": [
    "# Initialize TF-IDF Vectorizer with a maximum of 1000 features\n",
    "# This limits the number of features to the 1000 most frequent terms\n",
    "vectorizer = TfidfVectorizer(max_features=1000)  \n",
    "\n",
    "# Fit the vectorizer on the cleaned messages and transform them into a TF-IDF matrix\n",
    "# X is the resulting matrix where each row is a document, and each column is a term\n",
    "X = vectorizer.fit_transform(spam_data['cleaned_message'])\n",
    "\n",
    "print(\"Shape of TF-IDF matrix:\", X.shape)"
   ],
   "id": "3bd905f274e618fc",
   "outputs": [
    {
     "name": "stdout",
     "output_type": "stream",
     "text": [
      "Shape of TF-IDF matrix: (5572, 1000)\n"
     ]
    }
   ],
   "execution_count": 19
  },
  {
   "metadata": {},
   "cell_type": "markdown",
   "source": [
    "## Preparing Data\n",
    "### Splitting the data into training (60%), validation (20%), and test (20%)"
   ],
   "id": "6adbb20a28ec5886"
  },
  {
   "metadata": {
    "ExecuteTime": {
     "end_time": "2024-08-02T19:43:41.083403Z",
     "start_time": "2024-08-02T19:43:41.068Z"
    }
   },
   "cell_type": "code",
   "source": [
    "# Split the data into training (60%) and temp (40%) sets\n",
    "X_train, X_temp, y_train, y_temp = train_test_split(X, spam_data['label'], test_size=0.4, random_state=42)\n",
    "\n",
    "# Split the temp set into validation (20%) and test (20%) sets\n",
    "X_val, X_test, y_val, y_test = train_test_split(X_temp, y_temp, test_size=0.5, random_state=42)\n",
    "\n",
    "print(\"Training set size:\", X_train.shape)\n",
    "print(\"Validation set size:\", X_val.shape)\n",
    "print(\"Test set size:\", X_test.shape)"
   ],
   "id": "87dab6b76f4c0bb9",
   "outputs": [
    {
     "name": "stdout",
     "output_type": "stream",
     "text": [
      "Training set size: (3343, 1000)\n",
      "Validation set size: (1114, 1000)\n",
      "Test set size: (1115, 1000)\n"
     ]
    }
   ],
   "execution_count": 20
  },
  {
   "metadata": {},
   "cell_type": "markdown",
   "source": "## Building a Neural Network Model",
   "id": "a8a55be2ba77a8e8"
  },
  {
   "metadata": {
    "ExecuteTime": {
     "end_time": "2024-08-02T19:48:23.713305Z",
     "start_time": "2024-08-02T19:48:23.687779Z"
    }
   },
   "cell_type": "code",
   "source": [
    "model = Sequential([\n",
    "    Dense(units = 256, activation = 'relu', input_shape=(X_train.shape[1],)),\n",
    "    Dense(units = 128, activation = 'relu'),\n",
    "    Dense(units = 64, activation = 'relu'),\n",
    "    Dense(1, activation='sigmoid')\n",
    "])\n",
    "model.summary()"
   ],
   "id": "2da934c533d39f3f",
   "outputs": [
    {
     "name": "stderr",
     "output_type": "stream",
     "text": [
      "/Applications/ucsd/dsc/SpamClassifier/.venv/lib/python3.9/site-packages/keras/src/layers/core/dense.py:87: UserWarning: Do not pass an `input_shape`/`input_dim` argument to a layer. When using Sequential models, prefer using an `Input(shape)` object as the first layer in the model instead.\n",
      "  super().__init__(activity_regularizer=activity_regularizer, **kwargs)\n"
     ]
    },
    {
     "data": {
      "text/plain": [
       "\u001B[1mModel: \"sequential_3\"\u001B[0m\n"
      ],
      "text/html": [
       "<pre style=\"white-space:pre;overflow-x:auto;line-height:normal;font-family:Menlo,'DejaVu Sans Mono',consolas,'Courier New',monospace\"><span style=\"font-weight: bold\">Model: \"sequential_3\"</span>\n",
       "</pre>\n"
      ]
     },
     "metadata": {},
     "output_type": "display_data"
    },
    {
     "data": {
      "text/plain": [
       "┏━━━━━━━━━━━━━━━━━━━━━━━━━━━━━━━━━┳━━━━━━━━━━━━━━━━━━━━━━━━┳━━━━━━━━━━━━━━━┓\n",
       "┃\u001B[1m \u001B[0m\u001B[1mLayer (type)                   \u001B[0m\u001B[1m \u001B[0m┃\u001B[1m \u001B[0m\u001B[1mOutput Shape          \u001B[0m\u001B[1m \u001B[0m┃\u001B[1m \u001B[0m\u001B[1m      Param #\u001B[0m\u001B[1m \u001B[0m┃\n",
       "┡━━━━━━━━━━━━━━━━━━━━━━━━━━━━━━━━━╇━━━━━━━━━━━━━━━━━━━━━━━━╇━━━━━━━━━━━━━━━┩\n",
       "│ dense_12 (\u001B[38;5;33mDense\u001B[0m)                │ (\u001B[38;5;45mNone\u001B[0m, \u001B[38;5;34m256\u001B[0m)            │       \u001B[38;5;34m256,256\u001B[0m │\n",
       "├─────────────────────────────────┼────────────────────────┼───────────────┤\n",
       "│ dense_13 (\u001B[38;5;33mDense\u001B[0m)                │ (\u001B[38;5;45mNone\u001B[0m, \u001B[38;5;34m128\u001B[0m)            │        \u001B[38;5;34m32,896\u001B[0m │\n",
       "├─────────────────────────────────┼────────────────────────┼───────────────┤\n",
       "│ dense_14 (\u001B[38;5;33mDense\u001B[0m)                │ (\u001B[38;5;45mNone\u001B[0m, \u001B[38;5;34m64\u001B[0m)             │         \u001B[38;5;34m8,256\u001B[0m │\n",
       "├─────────────────────────────────┼────────────────────────┼───────────────┤\n",
       "│ dense_15 (\u001B[38;5;33mDense\u001B[0m)                │ (\u001B[38;5;45mNone\u001B[0m, \u001B[38;5;34m1\u001B[0m)              │            \u001B[38;5;34m65\u001B[0m │\n",
       "└─────────────────────────────────┴────────────────────────┴───────────────┘\n"
      ],
      "text/html": [
       "<pre style=\"white-space:pre;overflow-x:auto;line-height:normal;font-family:Menlo,'DejaVu Sans Mono',consolas,'Courier New',monospace\">┏━━━━━━━━━━━━━━━━━━━━━━━━━━━━━━━━━┳━━━━━━━━━━━━━━━━━━━━━━━━┳━━━━━━━━━━━━━━━┓\n",
       "┃<span style=\"font-weight: bold\"> Layer (type)                    </span>┃<span style=\"font-weight: bold\"> Output Shape           </span>┃<span style=\"font-weight: bold\">       Param # </span>┃\n",
       "┡━━━━━━━━━━━━━━━━━━━━━━━━━━━━━━━━━╇━━━━━━━━━━━━━━━━━━━━━━━━╇━━━━━━━━━━━━━━━┩\n",
       "│ dense_12 (<span style=\"color: #0087ff; text-decoration-color: #0087ff\">Dense</span>)                │ (<span style=\"color: #00d7ff; text-decoration-color: #00d7ff\">None</span>, <span style=\"color: #00af00; text-decoration-color: #00af00\">256</span>)            │       <span style=\"color: #00af00; text-decoration-color: #00af00\">256,256</span> │\n",
       "├─────────────────────────────────┼────────────────────────┼───────────────┤\n",
       "│ dense_13 (<span style=\"color: #0087ff; text-decoration-color: #0087ff\">Dense</span>)                │ (<span style=\"color: #00d7ff; text-decoration-color: #00d7ff\">None</span>, <span style=\"color: #00af00; text-decoration-color: #00af00\">128</span>)            │        <span style=\"color: #00af00; text-decoration-color: #00af00\">32,896</span> │\n",
       "├─────────────────────────────────┼────────────────────────┼───────────────┤\n",
       "│ dense_14 (<span style=\"color: #0087ff; text-decoration-color: #0087ff\">Dense</span>)                │ (<span style=\"color: #00d7ff; text-decoration-color: #00d7ff\">None</span>, <span style=\"color: #00af00; text-decoration-color: #00af00\">64</span>)             │         <span style=\"color: #00af00; text-decoration-color: #00af00\">8,256</span> │\n",
       "├─────────────────────────────────┼────────────────────────┼───────────────┤\n",
       "│ dense_15 (<span style=\"color: #0087ff; text-decoration-color: #0087ff\">Dense</span>)                │ (<span style=\"color: #00d7ff; text-decoration-color: #00d7ff\">None</span>, <span style=\"color: #00af00; text-decoration-color: #00af00\">1</span>)              │            <span style=\"color: #00af00; text-decoration-color: #00af00\">65</span> │\n",
       "└─────────────────────────────────┴────────────────────────┴───────────────┘\n",
       "</pre>\n"
      ]
     },
     "metadata": {},
     "output_type": "display_data"
    },
    {
     "data": {
      "text/plain": [
       "\u001B[1m Total params: \u001B[0m\u001B[38;5;34m297,473\u001B[0m (1.13 MB)\n"
      ],
      "text/html": [
       "<pre style=\"white-space:pre;overflow-x:auto;line-height:normal;font-family:Menlo,'DejaVu Sans Mono',consolas,'Courier New',monospace\"><span style=\"font-weight: bold\"> Total params: </span><span style=\"color: #00af00; text-decoration-color: #00af00\">297,473</span> (1.13 MB)\n",
       "</pre>\n"
      ]
     },
     "metadata": {},
     "output_type": "display_data"
    },
    {
     "data": {
      "text/plain": [
       "\u001B[1m Trainable params: \u001B[0m\u001B[38;5;34m297,473\u001B[0m (1.13 MB)\n"
      ],
      "text/html": [
       "<pre style=\"white-space:pre;overflow-x:auto;line-height:normal;font-family:Menlo,'DejaVu Sans Mono',consolas,'Courier New',monospace\"><span style=\"font-weight: bold\"> Trainable params: </span><span style=\"color: #00af00; text-decoration-color: #00af00\">297,473</span> (1.13 MB)\n",
       "</pre>\n"
      ]
     },
     "metadata": {},
     "output_type": "display_data"
    },
    {
     "data": {
      "text/plain": [
       "\u001B[1m Non-trainable params: \u001B[0m\u001B[38;5;34m0\u001B[0m (0.00 B)\n"
      ],
      "text/html": [
       "<pre style=\"white-space:pre;overflow-x:auto;line-height:normal;font-family:Menlo,'DejaVu Sans Mono',consolas,'Courier New',monospace\"><span style=\"font-weight: bold\"> Non-trainable params: </span><span style=\"color: #00af00; text-decoration-color: #00af00\">0</span> (0.00 B)\n",
       "</pre>\n"
      ]
     },
     "metadata": {},
     "output_type": "display_data"
    }
   ],
   "execution_count": 26
  },
  {
   "metadata": {},
   "cell_type": "markdown",
   "source": "## Training the Model",
   "id": "f062ad804ece5d32"
  },
  {
   "metadata": {
    "ExecuteTime": {
     "end_time": "2024-08-02T19:53:37.258145Z",
     "start_time": "2024-08-02T19:53:34.891035Z"
    }
   },
   "cell_type": "code",
   "source": [
    "# Compile the model\n",
    "model.compile(\n",
    "    optimizer=tf.keras.optimizers.Adam(0.01), \n",
    "    loss=tf.keras.losses.BinaryCrossentropy(), \n",
    "    metrics=['accuracy']\n",
    ")\n",
    "\n",
    "# Train the model\n",
    "history = model.fit(\n",
    "    X_train, y_train,\n",
    "    epochs=10,\n",
    "    validation_data=(X_val, y_val)\n",
    ")"
   ],
   "id": "2651d55c38ebe037",
   "outputs": [
    {
     "name": "stdout",
     "output_type": "stream",
     "text": [
      "Epoch 1/10\n",
      "\u001B[1m105/105\u001B[0m \u001B[32m━━━━━━━━━━━━━━━━━━━━\u001B[0m\u001B[37m\u001B[0m \u001B[1m1s\u001B[0m 2ms/step - accuracy: 0.9907 - loss: 0.1142 - val_accuracy: 0.9677 - val_loss: 0.1494\n",
      "Epoch 2/10\n",
      "\u001B[1m105/105\u001B[0m \u001B[32m━━━━━━━━━━━━━━━━━━━━\u001B[0m\u001B[37m\u001B[0m \u001B[1m0s\u001B[0m 1ms/step - accuracy: 0.9909 - loss: 0.0382 - val_accuracy: 0.9632 - val_loss: 0.1181\n",
      "Epoch 3/10\n",
      "\u001B[1m105/105\u001B[0m \u001B[32m━━━━━━━━━━━━━━━━━━━━\u001B[0m\u001B[37m\u001B[0m \u001B[1m0s\u001B[0m 2ms/step - accuracy: 0.9950 - loss: 0.0198 - val_accuracy: 0.9677 - val_loss: 0.2653\n",
      "Epoch 4/10\n",
      "\u001B[1m105/105\u001B[0m \u001B[32m━━━━━━━━━━━━━━━━━━━━\u001B[0m\u001B[37m\u001B[0m \u001B[1m0s\u001B[0m 1ms/step - accuracy: 0.9996 - loss: 0.0014 - val_accuracy: 0.9659 - val_loss: 0.3442\n",
      "Epoch 5/10\n",
      "\u001B[1m105/105\u001B[0m \u001B[32m━━━━━━━━━━━━━━━━━━━━\u001B[0m\u001B[37m\u001B[0m \u001B[1m0s\u001B[0m 1ms/step - accuracy: 0.9995 - loss: 0.0022 - val_accuracy: 0.9659 - val_loss: 0.4026\n",
      "Epoch 6/10\n",
      "\u001B[1m105/105\u001B[0m \u001B[32m━━━━━━━━━━━━━━━━━━━━\u001B[0m\u001B[37m\u001B[0m \u001B[1m0s\u001B[0m 1ms/step - accuracy: 1.0000 - loss: 3.1464e-04 - val_accuracy: 0.9659 - val_loss: 0.3872\n",
      "Epoch 7/10\n",
      "\u001B[1m105/105\u001B[0m \u001B[32m━━━━━━━━━━━━━━━━━━━━\u001B[0m\u001B[37m\u001B[0m \u001B[1m0s\u001B[0m 2ms/step - accuracy: 0.9999 - loss: 6.4019e-04 - val_accuracy: 0.9659 - val_loss: 0.3616\n",
      "Epoch 8/10\n",
      "\u001B[1m105/105\u001B[0m \u001B[32m━━━━━━━━━━━━━━━━━━━━\u001B[0m\u001B[37m\u001B[0m \u001B[1m0s\u001B[0m 2ms/step - accuracy: 0.9998 - loss: 0.0013 - val_accuracy: 0.9659 - val_loss: 0.3755\n",
      "Epoch 9/10\n",
      "\u001B[1m105/105\u001B[0m \u001B[32m━━━━━━━━━━━━━━━━━━━━\u001B[0m\u001B[37m\u001B[0m \u001B[1m0s\u001B[0m 2ms/step - accuracy: 0.9999 - loss: 7.7081e-04 - val_accuracy: 0.9659 - val_loss: 0.3812\n",
      "Epoch 10/10\n",
      "\u001B[1m105/105\u001B[0m \u001B[32m━━━━━━━━━━━━━━━━━━━━\u001B[0m\u001B[37m\u001B[0m \u001B[1m0s\u001B[0m 2ms/step - accuracy: 0.9997 - loss: 0.0012 - val_accuracy: 0.9668 - val_loss: 0.4136\n"
     ]
    }
   ],
   "execution_count": 29
  },
  {
   "metadata": {},
   "cell_type": "markdown",
   "source": "## Evaluating the Model",
   "id": "1f1eb9dc3a001eee"
  },
  {
   "metadata": {
    "ExecuteTime": {
     "end_time": "2024-08-02T19:58:07.570041Z",
     "start_time": "2024-08-02T19:58:07.461117Z"
    }
   },
   "cell_type": "code",
   "source": [
    "# Use the trained model to predict probabilities for the test data\n",
    "y_pred_prob = model.predict(X_test)\n",
    "\n",
    "# Convert predicted probabilities to binary class labels\n",
    "# If the probability is greater than 0.5, classify as positive class (1, spam)\n",
    "# Otherwise, classify as negative class (0, ham)\n",
    "y_pred = (y_pred_prob > 0.5).astype(\"int32\")\n",
    "\n",
    "from sklearn.metrics import confusion_matrix\n",
    "\n",
    "# Calculate the confusion matrix using true labels and predicted labels\n",
    "conf_matrix = confusion_matrix(y_test, y_pred)\n",
    "print(\"Confusion Matrix:\")\n",
    "print(conf_matrix)"
   ],
   "id": "b559321b41c987a5",
   "outputs": [
    {
     "name": "stdout",
     "output_type": "stream",
     "text": [
      "\u001B[1m35/35\u001B[0m \u001B[32m━━━━━━━━━━━━━━━━━━━━\u001B[0m\u001B[37m\u001B[0m \u001B[1m0s\u001B[0m 595us/step\n",
      "Confusion Matrix:\n",
      "[[965  10]\n",
      " [ 11 129]]\n"
     ]
    }
   ],
   "execution_count": 34
  },
  {
   "metadata": {},
   "cell_type": "markdown",
   "source": [
    "##### True Negatives (965): The model correctly identified 965 messages as ham (not spam).\n",
    "##### True Positives (129): The model correctly identified 129 messages as spam.\n",
    "##### False Positives (10) and False Negatives (11): The model incorrectly classified 10 ham messages as spam and 11 spam messages as ham."
   ],
   "id": "eb397868d6cae452"
  }
 ],
 "metadata": {
  "kernelspec": {
   "display_name": "Python 3",
   "language": "python",
   "name": "python3"
  },
  "language_info": {
   "codemirror_mode": {
    "name": "ipython",
    "version": 2
   },
   "file_extension": ".py",
   "mimetype": "text/x-python",
   "name": "python",
   "nbconvert_exporter": "python",
   "pygments_lexer": "ipython2",
   "version": "2.7.6"
  }
 },
 "nbformat": 4,
 "nbformat_minor": 5
}
